{
 "cells": [
  {
   "cell_type": "code",
   "execution_count": 112,
   "metadata": {},
   "outputs": [],
   "source": [
    "# Importing the required Libraries\n",
    "import requests\n",
    "import pandas as pd\n",
    "from bs4 import BeautifulSoup\n",
    "from selenium import webdriver\n",
    "from selenium.webdriver.support.ui import WebDriverWait\n",
    "from selenium.webdriver.support import expected_conditions as EC\n",
    "from selenium.webdriver.common.by import By"
   ]
  },
  {
   "cell_type": "code",
   "execution_count": 113,
   "metadata": {},
   "outputs": [],
   "source": [
    "# defining the topics for the news\n",
    "topics = ['sports','science','technology','india','world','corona','economy']"
   ]
  },
  {
   "cell_type": "code",
   "execution_count": 12,
   "metadata": {},
   "outputs": [],
   "source": [
    "# The instance of Firefox WebDriver is created.\n",
    "driver = webdriver.Firefox(executable_path = 'C:\\Webdr\\geckodriver.exe')\n",
    "wait = WebDriverWait(driver, 10)"
   ]
  },
  {
   "cell_type": "code",
   "execution_count": 115,
   "metadata": {},
   "outputs": [],
   "source": [
    "# Link of the site from which news are being scraped\n",
    "link = \"https://www.reuters.com\"\n",
    "links = set() # set for collecting links of the articles\n",
    "\n",
    "for topic in topics: \n",
    "    # The driver.get method will navigate to a page given by the URL\n",
    "    driver.get(link + '/search/news?blob=' + topic)\n",
    "    \n",
    "    page_num = 0\n",
    "    while page_num < 100:\n",
    "        try:\n",
    "            wait.until(EC.visibility_of_element_located((By.CLASS_NAME, 'search-result-more-txt')))\n",
    "            driver.find_element_by_class_name('search-result-more-txt').click()\n",
    "            page_num += 1\n",
    "        except:\n",
    "            break\n",
    "            \n",
    "    html = driver.page_source.encode('utf-8')\n",
    "    soup = BeautifulSoup(html,'html.parser')\n",
    "    for i in soup.find_all('h3', attrs = {'class':'search-result-title'}):\n",
    "        links.add(link + i.a.get('href'))"
   ]
  },
  {
   "cell_type": "code",
   "execution_count": 140,
   "metadata": {},
   "outputs": [],
   "source": [
    "articles_info = []\n",
    "for link in links:\n",
    "    single_response = requests.get(link)\n",
    "    single_html_data = single_response.content\n",
    "    single_soup = BeautifulSoup(single_html_data, 'html.parser')\n",
    "    articles_dict = {}\n",
    "    articles_dict['link'] = link\n",
    "    articles_dict['title'] = single_soup.find('h1', attrs = {'class': 'Headline-headline-2FXIq Headline-black-OogpV ArticleHeader-headline-NlAqj'}).get_text()\n",
    "    text = \"\"\n",
    "    for each_tag in single_soup.find_all('p', attrs = {'class': \"Paragraph-paragraph-2Bgue ArticleBody-para-TD_9x\"}):\n",
    "        text += each_tag.get_text()\n",
    "    articles_dict['text'] = text\n",
    "    articles_info.append(articles_dict)"
   ]
  },
  {
   "cell_type": "code",
   "execution_count": 141,
   "metadata": {},
   "outputs": [],
   "source": [
    "# making the dataframe of extracted news\n",
    "news = pd.DataFrame(articles_info)"
   ]
  },
  {
   "cell_type": "code",
   "execution_count": 142,
   "metadata": {},
   "outputs": [],
   "source": [
    "# writing the news DataFrame into Excel File\n",
    "writer = pd.ExcelWriter('scrapednews.xlsx', engine='xlsxwriter')\n",
    "news.to_excel(writer, sheet_name='Sheet1')\n",
    "writer.save()"
   ]
  },
  {
   "cell_type": "code",
   "execution_count": null,
   "metadata": {},
   "outputs": [],
   "source": [
    "# or you can write it into a csv file\n",
    "news.to_csv('scraped_news.csv')"
   ]
  }
 ],
 "metadata": {
  "kernelspec": {
   "display_name": "Python 3",
   "language": "python",
   "name": "python3"
  },
  "language_info": {
   "codemirror_mode": {
    "name": "ipython",
    "version": 3
   },
   "file_extension": ".py",
   "mimetype": "text/x-python",
   "name": "python",
   "nbconvert_exporter": "python",
   "pygments_lexer": "ipython3",
   "version": "3.7.3"
  }
 },
 "nbformat": 4,
 "nbformat_minor": 2
}
